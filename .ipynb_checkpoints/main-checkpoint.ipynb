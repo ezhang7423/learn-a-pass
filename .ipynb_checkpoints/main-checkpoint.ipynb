{
 "cells": [
  {
   "cell_type": "code",
   "execution_count": null,
   "metadata": {},
   "outputs": [],
   "source": [
    "import time\n",
    "import sys\n",
    "import os "
   ]
  },
  {
   "cell_type": "code",
   "execution_count": null,
   "metadata": {},
   "outputs": [],
   "source": [
    "def removelast():\n",
    "   sys.stdout.write(\"\\033[F\") #back to previous line\n",
    "   sys.stdout.write(\"\\033[K\") #clear line\n",
    "\n",
    "clear = lambda: os.system('clear')\n",
    "\n",
    "\n",
    "#define practice\n",
    "def practice(div_pas, right):\n",
    "  if len(div_pas) != 0:\n",
    "    sub = div_pas[0]\n",
    "    print('this is the sub:', sub)\n",
    "    if right == 0:\n",
    "      print(\"DON'T TOUCH THE KEYBOARD! You can cheat, but won't learn anything\")\n",
    "    time.sleep(5-right*(1.1**right)) #waiting gets faster as user gets better\n",
    "    if right == 0:\n",
    "      removelast()\n",
    "    removelast()\n",
    "    ans = input('Type it back in\\n')\n",
    "    if ans == sub:\n",
    "      right += 1\n",
    "      if right == 3:\n",
    "        print('good, let\\'s move on.')\n",
    "        time.sleep(0.5)\n",
    "        removelast()\n",
    "        removelast()\n",
    "        removelast()\n",
    "        #removelast()\n",
    "        practice(div_pas[1:], 0)\n",
    "      else:\n",
    "        print('good job')\n",
    "        time.sleep(0.5)\n",
    "        removelast()\n",
    "        removelast()\n",
    "        removelast()\n",
    "        practice(div_pas, right)\n",
    "    else:\n",
    "      print(\"try again\")\n",
    "      time.sleep(0.5)\n",
    "      removelast()\n",
    "      removelast()\n",
    "      practice(div_pas, right)\n",
    "  else:\n",
    "    return \n",
    "\n",
    "#define test\n",
    "def test(divided_pas):"
   ]
  },
  {
   "cell_type": "code",
   "execution_count": null,
   "metadata": {},
   "outputs": [],
   "source": [
    "def main():\n",
    "  #variables\n",
    "  pas = \"undefined\"\n",
    "  num_divides = len(pas)//4\n",
    "  divided_pas = []\n",
    "  #get divided up password\n",
    "  for x in range(1, num_divides+1):\n",
    "    divided_pas.append(pas[4*x-4:4*x])\n",
    "  if len(pas)/4 != len(pas)//4:\n",
    "    divided_pas.append(pas[4*num_divides:len(pas)+1])\n",
    "  \n",
    "  #train user\n",
    "  clear()\n",
    "  print('the way this tool works is by dividing up your password into subpasswords and training you on the different sections(subs), and finally testing areas that you\\'re weak in. you are currently in the first test section where you simply learning the different subs.')\n",
    "  y = input('are you ready to begin?\\n')\n",
    "  print('well, i didn\\'t really care either way, let\\'s start.')\n",
    "  time.sleep(2)\n",
    "  clear()\n",
    "  practice(divided_pas, 0)\n",
    "  practice(divided_pas, 0)\n",
    "  print('congraulations! you have been deemed proficient in all sections of the password. now let\\'s put them together.')\n",
    "  y = input('you should take a break. come back after five minutes to solidify your memory.\\n')\n",
    "  clear()\n",
    "  test(divided_pas)\n",
    "  print('you have now learned a new password, and quickly at that.')"
   ]
  },
  {
   "cell_type": "code",
   "execution_count": null,
   "metadata": {},
   "outputs": [],
   "source": [
    "#get password\n",
    "# ans = input('do you have a super secure password yet? (y/n)\\n')\n",
    "\n",
    "# if ans == 'n':\n",
    "#   wait = input('go get one here\\nhttps://passwordsgenerator.net/\\nand come back. Don\\'t worry, just press enter when you\\'re back.\\n')\n",
    "# else:\n",
    "#   pas = input('enter you password now. Don\\'t worry, it won\\'t be stored and we won\\'t steal it\\n!')\n",
    "\n",
    "main()"
   ]
  }
 ],
 "metadata": {
  "kernelspec": {
   "display_name": "Python 3",
   "language": "python",
   "name": "python3"
  },
  "language_info": {
   "codemirror_mode": {
    "name": "ipython",
    "version": 3
   },
   "file_extension": ".py",
   "mimetype": "text/x-python",
   "name": "python",
   "nbconvert_exporter": "python",
   "pygments_lexer": "ipython3",
   "version": "3.7.4"
  }
 },
 "nbformat": 4,
 "nbformat_minor": 4
}
